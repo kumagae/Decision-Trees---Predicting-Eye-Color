{
  "nbformat": 4,
  "nbformat_minor": 0,
  "metadata": {
    "colab": {
      "name": "Decision Trees - Predicting Eye Color",
      "provenance": []
    },
    "kernelspec": {
      "name": "python3",
      "display_name": "Python 3"
    }
  },
  "cells": [
    {
      "cell_type": "code",
      "metadata": {
        "id": "RG02inhsDm3y"
      },
      "source": [
        ""
      ],
      "execution_count": null,
      "outputs": []
    },
    {
      "cell_type": "markdown",
      "metadata": {
        "id": "sPjfMfCCF8wo"
      },
      "source": [
        "# Decision Trees\n",
        "This project aims to use Decision Trees to analysis if there is a correspondence between eye color and other traits.\n",
        "\n",
        "The data used is JSE Data Archive data. It contains biological and self-reported activity traits of a sample of colloge students at a university in 2013.\n",
        "\n",
        "FEATURES: \n",
        "\n",
        "<ul>\n",
        "<li>Color (Blue, Brown, Green, Hazel, Other)\n",
        "<li>Age (in years)\n",
        "<li>YearinSchool (First, Second, Third, Fourth, Other)\n",
        "<li>Height (in inches)\n",
        "<li>Miles (distance from home town of student to Ames, IA) \n",
        "<li>Brothers (number of brothers)\n",
        "<li>Sisters (number of sisters)\n",
        "<li>CompTime (number of hours spent on computer per week)\n",
        "<li>Exercise (whether the student exercises Yes or No)\n",
        "<li>ExerTime (number of hours spent exercising per week)\n",
        "<li>MusicCDs (number of music CDs student owns)\n",
        "<li>PlayGames (number of hours spent playing games per week)\n",
        "<li>WatchTV (number of hours spent watching TV per week\n",
        "</ul>"
      ]
    },
    {
      "cell_type": "code",
      "metadata": {
        "id": "tI4LT-3JG0rN",
        "colab": {
          "base_uri": "https://localhost:8080/"
        },
        "outputId": "8c6e2193-d85d-4655-d194-5167e50033e3"
      },
      "source": [
        "from collections import Counter, defaultdict\n",
        "from itertools import combinations \n",
        "import pandas as pd\n",
        "import numpy as np\n",
        "import operator\n",
        "#train test split\n",
        "from sklearn.tree import DecisionTreeClassifier\n",
        "from sklearn.metrics import accuracy_score\n",
        "from sklearn import tree\n",
        "!wget http://people.ischool.berkeley.edu/~zp/course_datasets/eye_color.zip\n",
        "!unzip eye_color.zip\n",
        "!ls\n",
        " "
      ],
      "execution_count": null,
      "outputs": [
        {
          "output_type": "stream",
          "text": [
            "--2020-11-13 03:21:59--  http://people.ischool.berkeley.edu/~zp/course_datasets/eye_color.zip\n",
            "Resolving people.ischool.berkeley.edu (people.ischool.berkeley.edu)... 128.32.78.16\n",
            "Connecting to people.ischool.berkeley.edu (people.ischool.berkeley.edu)|128.32.78.16|:80... connected.\n",
            "HTTP request sent, awaiting response... 301 Moved Permanently\n",
            "Location: https://people.ischool.berkeley.edu/~zp/course_datasets/eye_color.zip [following]\n",
            "--2020-11-13 03:22:00--  https://people.ischool.berkeley.edu/~zp/course_datasets/eye_color.zip\n",
            "Connecting to people.ischool.berkeley.edu (people.ischool.berkeley.edu)|128.32.78.16|:443... connected.\n",
            "HTTP request sent, awaiting response... 200 OK\n",
            "Length: 23344 (23K) [application/zip]\n",
            "Saving to: ‘eye_color.zip’\n",
            "\n",
            "eye_color.zip       100%[===================>]  22.80K  --.-KB/s    in 0.1s    \n",
            "\n",
            "2020-11-13 03:22:00 (167 KB/s) - ‘eye_color.zip’ saved [23344/23344]\n",
            "\n",
            "Archive:  eye_color.zip\n",
            "  inflating: Eye_Color.csv           \n",
            "  inflating: Eye_Color_Dataset_Description.txt  \n",
            "Eye_Color.csv  Eye_Color_Dataset_Description.txt  eye_color.zip  sample_data\n"
          ],
          "name": "stdout"
        }
      ]
    },
    {
      "cell_type": "code",
      "metadata": {
        "id": "iBLbog_vGvPg"
      },
      "source": [
        "df = pd.read_csv('Eye_Color.csv')\n",
        "\n",
        "# removing NA's and reseting the index\n",
        "df = df.dropna(axis=0, how='any', thresh=None, subset=None, inplace=False)\n",
        "df = df.reset_index(drop=True)"
      ],
      "execution_count": null,
      "outputs": []
    },
    {
      "cell_type": "markdown",
      "metadata": {
        "id": "5_jPt9DkG4Pq"
      },
      "source": [
        "# Calculating Gini Index \n",
        "\n",
        "The Gini Coefficient or Gini Index is a measurement of inequality among values of a variable. The higher the value, the more dispered the data. The closer the index is to zero, the higher the equality and lower the inequality and vise-versa.\n",
        "\n",
        "The initial Gini Index of this dataset is created using males and females as target classes. \n"
      ]
    },
    {
      "cell_type": "code",
      "metadata": {
        "id": "w9z3DpUJH5sz",
        "colab": {
          "base_uri": "https://localhost:8080/"
        },
        "outputId": "9863e251-15e4-4b58-9e46-244148ab4ac5"
      },
      "source": [
        "# YOUR CODE HERE\n",
        "df['gender'].value_counts()"
      ],
      "execution_count": null,
      "outputs": [
        {
          "output_type": "execute_result",
          "data": {
            "text/plain": [
              "female    1078\n",
              "male       910\n",
              "Name: gender, dtype: int64"
            ]
          },
          "metadata": {
            "tags": []
          },
          "execution_count": 3
        }
      ]
    },
    {
      "cell_type": "code",
      "metadata": {
        "id": "VMB9qwD8H7so",
        "colab": {
          "base_uri": "https://localhost:8080/"
        },
        "outputId": "95e43a21-d423-4fde-df27-e87001d9452c"
      },
      "source": [
        "# YOUR CODE HERE\n",
        "n = df.gender.value_counts().female\n",
        "m = df.gender.value_counts().male\n",
        "total_gender = n+m\n",
        "\n",
        "gini_index_gender = 1 - (n/total_gender)**2 - (m/total_gender)**2\n",
        "gini_index_gender"
      ],
      "execution_count": null,
      "outputs": [
        {
          "output_type": "execute_result",
          "data": {
            "text/plain": [
              "0.4964292799047808"
            ]
          },
          "metadata": {
            "tags": []
          },
          "execution_count": 4
        }
      ]
    },
    {
      "cell_type": "code",
      "metadata": {
        "id": "D_88iwkMIDG8",
        "colab": {
          "base_uri": "https://localhost:8080/"
        },
        "outputId": "db0b657f-f693-4951-ee60-a8e8b9aa47a0"
      },
      "source": [
        "total_gender"
      ],
      "execution_count": null,
      "outputs": [
        {
          "output_type": "execute_result",
          "data": {
            "text/plain": [
              "1988"
            ]
          },
          "metadata": {
            "tags": []
          },
          "execution_count": 5
        }
      ]
    },
    {
      "cell_type": "markdown",
      "metadata": {
        "id": "8mJpTfKJIQ1Q"
      },
      "source": [
        "With a gini index of 0.49, there is about a 50/50 split between male and females. "
      ]
    },
    {
      "cell_type": "markdown",
      "metadata": {
        "id": "HDWMwt_MJSsV"
      },
      "source": [
        "# Best split for Numerical Features\n",
        "\n",
        "Here, I find split points for the decision trees within the numerical features. \n",
        "\n",
        "First, I look at the hieght feature."
      ]
    },
    {
      "cell_type": "code",
      "metadata": {
        "id": "4L8CTR-xJzfR",
        "colab": {
          "base_uri": "https://localhost:8080/",
          "height": 204
        },
        "outputId": "3bb4c8f9-eb97-4b94-9f63-cac204fd0a28"
      },
      "source": [
        "df3 = df.sort_values('height', ascending=True).reset_index(drop=True)\n",
        "height = df3[['height']]\n",
        "height.head()"
      ],
      "execution_count": null,
      "outputs": [
        {
          "output_type": "execute_result",
          "data": {
            "text/html": [
              "<div>\n",
              "<style scoped>\n",
              "    .dataframe tbody tr th:only-of-type {\n",
              "        vertical-align: middle;\n",
              "    }\n",
              "\n",
              "    .dataframe tbody tr th {\n",
              "        vertical-align: top;\n",
              "    }\n",
              "\n",
              "    .dataframe thead th {\n",
              "        text-align: right;\n",
              "    }\n",
              "</style>\n",
              "<table border=\"1\" class=\"dataframe\">\n",
              "  <thead>\n",
              "    <tr style=\"text-align: right;\">\n",
              "      <th></th>\n",
              "      <th>height</th>\n",
              "    </tr>\n",
              "  </thead>\n",
              "  <tbody>\n",
              "    <tr>\n",
              "      <th>0</th>\n",
              "      <td>44.0</td>\n",
              "    </tr>\n",
              "    <tr>\n",
              "      <th>1</th>\n",
              "      <td>52.0</td>\n",
              "    </tr>\n",
              "    <tr>\n",
              "      <th>2</th>\n",
              "      <td>54.0</td>\n",
              "    </tr>\n",
              "    <tr>\n",
              "      <th>3</th>\n",
              "      <td>56.0</td>\n",
              "    </tr>\n",
              "    <tr>\n",
              "      <th>4</th>\n",
              "      <td>56.0</td>\n",
              "    </tr>\n",
              "  </tbody>\n",
              "</table>\n",
              "</div>"
            ],
            "text/plain": [
              "   height\n",
              "0    44.0\n",
              "1    52.0\n",
              "2    54.0\n",
              "3    56.0\n",
              "4    56.0"
            ]
          },
          "metadata": {
            "tags": []
          },
          "execution_count": 6
        }
      ]
    },
    {
      "cell_type": "code",
      "metadata": {
        "id": "nnHxV3L6J6_y",
        "colab": {
          "base_uri": "https://localhost:8080/",
          "height": 204
        },
        "outputId": "1f4a3355-84ad-42d1-c14f-d2b76e3fe6d9"
      },
      "source": [
        "d = Counter(height['height'])\n",
        "h_counts = pd.DataFrame.from_dict(d, orient='index').reset_index()\n",
        "h_counts = h_counts.rename(columns={'index':'height', 0:'count'})\n",
        "h_counts = h_counts[['height','count']].astype(int) #couldn't figure out how to slice through lists, so convert to df first then slice.\n",
        "h_counts.head()"
      ],
      "execution_count": null,
      "outputs": [
        {
          "output_type": "execute_result",
          "data": {
            "text/html": [
              "<div>\n",
              "<style scoped>\n",
              "    .dataframe tbody tr th:only-of-type {\n",
              "        vertical-align: middle;\n",
              "    }\n",
              "\n",
              "    .dataframe tbody tr th {\n",
              "        vertical-align: top;\n",
              "    }\n",
              "\n",
              "    .dataframe thead th {\n",
              "        text-align: right;\n",
              "    }\n",
              "</style>\n",
              "<table border=\"1\" class=\"dataframe\">\n",
              "  <thead>\n",
              "    <tr style=\"text-align: right;\">\n",
              "      <th></th>\n",
              "      <th>height</th>\n",
              "      <th>count</th>\n",
              "    </tr>\n",
              "  </thead>\n",
              "  <tbody>\n",
              "    <tr>\n",
              "      <th>0</th>\n",
              "      <td>44</td>\n",
              "      <td>1</td>\n",
              "    </tr>\n",
              "    <tr>\n",
              "      <th>1</th>\n",
              "      <td>52</td>\n",
              "      <td>1</td>\n",
              "    </tr>\n",
              "    <tr>\n",
              "      <th>2</th>\n",
              "      <td>54</td>\n",
              "      <td>1</td>\n",
              "    </tr>\n",
              "    <tr>\n",
              "      <th>3</th>\n",
              "      <td>56</td>\n",
              "      <td>3</td>\n",
              "    </tr>\n",
              "    <tr>\n",
              "      <th>4</th>\n",
              "      <td>57</td>\n",
              "      <td>2</td>\n",
              "    </tr>\n",
              "  </tbody>\n",
              "</table>\n",
              "</div>"
            ],
            "text/plain": [
              "   height  count\n",
              "0      44      1\n",
              "1      52      1\n",
              "2      54      1\n",
              "3      56      3\n",
              "4      57      2"
            ]
          },
          "metadata": {
            "tags": []
          },
          "execution_count": 7
        }
      ]
    },
    {
      "cell_type": "code",
      "metadata": {
        "id": "8OvudOnVJ84m",
        "colab": {
          "base_uri": "https://localhost:8080/"
        },
        "outputId": "9b381c8a-d848-47a8-e1d5-92bed1c40b07"
      },
      "source": [
        "data = h_counts['count'].values.tolist()\n",
        "data"
      ],
      "execution_count": null,
      "outputs": [
        {
          "output_type": "execute_result",
          "data": {
            "text/plain": [
              "[1,\n",
              " 1,\n",
              " 1,\n",
              " 3,\n",
              " 2,\n",
              " 3,\n",
              " 5,\n",
              " 21,\n",
              " 31,\n",
              " 83,\n",
              " 99,\n",
              " 146,\n",
              " 158,\n",
              " 139,\n",
              " 192,\n",
              " 162,\n",
              " 147,\n",
              " 182,\n",
              " 119,\n",
              " 185,\n",
              " 88,\n",
              " 73,\n",
              " 61,\n",
              " 36,\n",
              " 25,\n",
              " 15,\n",
              " 5,\n",
              " 2,\n",
              " 2,\n",
              " 1]"
            ]
          },
          "metadata": {
            "tags": []
          },
          "execution_count": 8
        }
      ]
    },
    {
      "cell_type": "code",
      "metadata": {
        "id": "IAQtTiBDKA9v",
        "colab": {
          "base_uri": "https://localhost:8080/",
          "height": 204
        },
        "outputId": "154c39e5-0f31-4792-c7b7-91d51390feac"
      },
      "source": [
        "def running_sum(a):\n",
        "  tot = 0\n",
        "  for item in a:\n",
        "    tot += item\n",
        "    yield tot\n",
        "    \n",
        "counts_previous = list(running_sum(data))\n",
        "h_counts['running count'] = counts_previous\n",
        "h_counts.head() "
      ],
      "execution_count": null,
      "outputs": [
        {
          "output_type": "execute_result",
          "data": {
            "text/html": [
              "<div>\n",
              "<style scoped>\n",
              "    .dataframe tbody tr th:only-of-type {\n",
              "        vertical-align: middle;\n",
              "    }\n",
              "\n",
              "    .dataframe tbody tr th {\n",
              "        vertical-align: top;\n",
              "    }\n",
              "\n",
              "    .dataframe thead th {\n",
              "        text-align: right;\n",
              "    }\n",
              "</style>\n",
              "<table border=\"1\" class=\"dataframe\">\n",
              "  <thead>\n",
              "    <tr style=\"text-align: right;\">\n",
              "      <th></th>\n",
              "      <th>height</th>\n",
              "      <th>count</th>\n",
              "      <th>running count</th>\n",
              "    </tr>\n",
              "  </thead>\n",
              "  <tbody>\n",
              "    <tr>\n",
              "      <th>0</th>\n",
              "      <td>44</td>\n",
              "      <td>1</td>\n",
              "      <td>1</td>\n",
              "    </tr>\n",
              "    <tr>\n",
              "      <th>1</th>\n",
              "      <td>52</td>\n",
              "      <td>1</td>\n",
              "      <td>2</td>\n",
              "    </tr>\n",
              "    <tr>\n",
              "      <th>2</th>\n",
              "      <td>54</td>\n",
              "      <td>1</td>\n",
              "      <td>3</td>\n",
              "    </tr>\n",
              "    <tr>\n",
              "      <th>3</th>\n",
              "      <td>56</td>\n",
              "      <td>3</td>\n",
              "      <td>6</td>\n",
              "    </tr>\n",
              "    <tr>\n",
              "      <th>4</th>\n",
              "      <td>57</td>\n",
              "      <td>2</td>\n",
              "      <td>8</td>\n",
              "    </tr>\n",
              "  </tbody>\n",
              "</table>\n",
              "</div>"
            ],
            "text/plain": [
              "   height  count  running count\n",
              "0      44      1              1\n",
              "1      52      1              2\n",
              "2      54      1              3\n",
              "3      56      3              6\n",
              "4      57      2              8"
            ]
          },
          "metadata": {
            "tags": []
          },
          "execution_count": 9
        }
      ]
    },
    {
      "cell_type": "markdown",
      "metadata": {
        "id": "_Ub9f4_oKDdp"
      },
      "source": [
        "I now need to find number of females and males associated with these heights. So I create a female and male count:"
      ]
    },
    {
      "cell_type": "code",
      "metadata": {
        "id": "81pDtNhRKBKp",
        "colab": {
          "base_uri": "https://localhost:8080/",
          "height": 204
        },
        "outputId": "37b9ff60-3b4f-4070-e370-b099eb58a6db"
      },
      "source": [
        "df3_no2 = df[['gender', 'height']].copy()\n",
        "df3_n2 = df3_no2.replace({'female':['f'],'male':['m']})\n",
        "df3_fm = df3_n2.groupby(['height']).sum()\n",
        "df3_fm['f_counts'] = df3_fm['gender'].apply(lambda E:E.count('f'))\n",
        "df3_fm['m_counts'] = df3_fm['gender'].apply(lambda E:E.count('m'))\n",
        "df3_fm_final = df3_fm[['f_counts','m_counts']].copy().reset_index(drop=True)\n",
        "\n",
        "dataf = df3_fm_final['f_counts'].values.tolist()\n",
        "datam = df3_fm_final['m_counts'].values.tolist()\n",
        "\n",
        "counts_previousf = list(running_sum(dataf))\n",
        "counts_previousm = list(running_sum(datam))\n",
        "\n",
        "df3_fm_final['running counts of female'] = counts_previousf\n",
        "df3_fm_final['running counts of male'] = counts_previousm\n",
        "\n",
        "df3_fm_final.head()"
      ],
      "execution_count": null,
      "outputs": [
        {
          "output_type": "execute_result",
          "data": {
            "text/html": [
              "<div>\n",
              "<style scoped>\n",
              "    .dataframe tbody tr th:only-of-type {\n",
              "        vertical-align: middle;\n",
              "    }\n",
              "\n",
              "    .dataframe tbody tr th {\n",
              "        vertical-align: top;\n",
              "    }\n",
              "\n",
              "    .dataframe thead th {\n",
              "        text-align: right;\n",
              "    }\n",
              "</style>\n",
              "<table border=\"1\" class=\"dataframe\">\n",
              "  <thead>\n",
              "    <tr style=\"text-align: right;\">\n",
              "      <th></th>\n",
              "      <th>f_counts</th>\n",
              "      <th>m_counts</th>\n",
              "      <th>running counts of female</th>\n",
              "      <th>running counts of male</th>\n",
              "    </tr>\n",
              "  </thead>\n",
              "  <tbody>\n",
              "    <tr>\n",
              "      <th>0</th>\n",
              "      <td>1</td>\n",
              "      <td>0</td>\n",
              "      <td>1</td>\n",
              "      <td>0</td>\n",
              "    </tr>\n",
              "    <tr>\n",
              "      <th>1</th>\n",
              "      <td>1</td>\n",
              "      <td>0</td>\n",
              "      <td>2</td>\n",
              "      <td>0</td>\n",
              "    </tr>\n",
              "    <tr>\n",
              "      <th>2</th>\n",
              "      <td>1</td>\n",
              "      <td>0</td>\n",
              "      <td>3</td>\n",
              "      <td>0</td>\n",
              "    </tr>\n",
              "    <tr>\n",
              "      <th>3</th>\n",
              "      <td>3</td>\n",
              "      <td>0</td>\n",
              "      <td>6</td>\n",
              "      <td>0</td>\n",
              "    </tr>\n",
              "    <tr>\n",
              "      <th>4</th>\n",
              "      <td>2</td>\n",
              "      <td>0</td>\n",
              "      <td>8</td>\n",
              "      <td>0</td>\n",
              "    </tr>\n",
              "  </tbody>\n",
              "</table>\n",
              "</div>"
            ],
            "text/plain": [
              "   f_counts  m_counts  running counts of female  running counts of male\n",
              "0         1         0                         1                       0\n",
              "1         1         0                         2                       0\n",
              "2         1         0                         3                       0\n",
              "3         3         0                         6                       0\n",
              "4         2         0                         8                       0"
            ]
          },
          "metadata": {
            "tags": []
          },
          "execution_count": 10
        }
      ]
    },
    {
      "cell_type": "code",
      "metadata": {
        "id": "jF5tmfkEKK0O",
        "colab": {
          "base_uri": "https://localhost:8080/",
          "height": 204
        },
        "outputId": "5809a421-7679-453d-be55-9a9760ceaaad"
      },
      "source": [
        "#combine h_counts with df3_fm_final\\\n",
        "df3_cleaned = h_counts.join(df3_fm_final)\n",
        "df3_cleaned.head()"
      ],
      "execution_count": null,
      "outputs": [
        {
          "output_type": "execute_result",
          "data": {
            "text/html": [
              "<div>\n",
              "<style scoped>\n",
              "    .dataframe tbody tr th:only-of-type {\n",
              "        vertical-align: middle;\n",
              "    }\n",
              "\n",
              "    .dataframe tbody tr th {\n",
              "        vertical-align: top;\n",
              "    }\n",
              "\n",
              "    .dataframe thead th {\n",
              "        text-align: right;\n",
              "    }\n",
              "</style>\n",
              "<table border=\"1\" class=\"dataframe\">\n",
              "  <thead>\n",
              "    <tr style=\"text-align: right;\">\n",
              "      <th></th>\n",
              "      <th>height</th>\n",
              "      <th>count</th>\n",
              "      <th>running count</th>\n",
              "      <th>f_counts</th>\n",
              "      <th>m_counts</th>\n",
              "      <th>running counts of female</th>\n",
              "      <th>running counts of male</th>\n",
              "    </tr>\n",
              "  </thead>\n",
              "  <tbody>\n",
              "    <tr>\n",
              "      <th>0</th>\n",
              "      <td>44</td>\n",
              "      <td>1</td>\n",
              "      <td>1</td>\n",
              "      <td>1</td>\n",
              "      <td>0</td>\n",
              "      <td>1</td>\n",
              "      <td>0</td>\n",
              "    </tr>\n",
              "    <tr>\n",
              "      <th>1</th>\n",
              "      <td>52</td>\n",
              "      <td>1</td>\n",
              "      <td>2</td>\n",
              "      <td>1</td>\n",
              "      <td>0</td>\n",
              "      <td>2</td>\n",
              "      <td>0</td>\n",
              "    </tr>\n",
              "    <tr>\n",
              "      <th>2</th>\n",
              "      <td>54</td>\n",
              "      <td>1</td>\n",
              "      <td>3</td>\n",
              "      <td>1</td>\n",
              "      <td>0</td>\n",
              "      <td>3</td>\n",
              "      <td>0</td>\n",
              "    </tr>\n",
              "    <tr>\n",
              "      <th>3</th>\n",
              "      <td>56</td>\n",
              "      <td>3</td>\n",
              "      <td>6</td>\n",
              "      <td>3</td>\n",
              "      <td>0</td>\n",
              "      <td>6</td>\n",
              "      <td>0</td>\n",
              "    </tr>\n",
              "    <tr>\n",
              "      <th>4</th>\n",
              "      <td>57</td>\n",
              "      <td>2</td>\n",
              "      <td>8</td>\n",
              "      <td>2</td>\n",
              "      <td>0</td>\n",
              "      <td>8</td>\n",
              "      <td>0</td>\n",
              "    </tr>\n",
              "  </tbody>\n",
              "</table>\n",
              "</div>"
            ],
            "text/plain": [
              "   height  count  ...  running counts of female  running counts of male\n",
              "0      44      1  ...                         1                       0\n",
              "1      52      1  ...                         2                       0\n",
              "2      54      1  ...                         3                       0\n",
              "3      56      3  ...                         6                       0\n",
              "4      57      2  ...                         8                       0\n",
              "\n",
              "[5 rows x 7 columns]"
            ]
          },
          "metadata": {
            "tags": []
          },
          "execution_count": 11
        }
      ]
    },
    {
      "cell_type": "code",
      "metadata": {
        "id": "8Sl99fMpKMXJ",
        "colab": {
          "base_uri": "https://localhost:8080/",
          "height": 204
        },
        "outputId": "d8885bdb-6e7b-4e1c-88f0-a91deda2f64a"
      },
      "source": [
        "final_df3 = df3_cleaned[['height', 'running count', 'running counts of female', 'running counts of male']]\n",
        "final_df3.head()"
      ],
      "execution_count": null,
      "outputs": [
        {
          "output_type": "execute_result",
          "data": {
            "text/html": [
              "<div>\n",
              "<style scoped>\n",
              "    .dataframe tbody tr th:only-of-type {\n",
              "        vertical-align: middle;\n",
              "    }\n",
              "\n",
              "    .dataframe tbody tr th {\n",
              "        vertical-align: top;\n",
              "    }\n",
              "\n",
              "    .dataframe thead th {\n",
              "        text-align: right;\n",
              "    }\n",
              "</style>\n",
              "<table border=\"1\" class=\"dataframe\">\n",
              "  <thead>\n",
              "    <tr style=\"text-align: right;\">\n",
              "      <th></th>\n",
              "      <th>height</th>\n",
              "      <th>running count</th>\n",
              "      <th>running counts of female</th>\n",
              "      <th>running counts of male</th>\n",
              "    </tr>\n",
              "  </thead>\n",
              "  <tbody>\n",
              "    <tr>\n",
              "      <th>0</th>\n",
              "      <td>44</td>\n",
              "      <td>1</td>\n",
              "      <td>1</td>\n",
              "      <td>0</td>\n",
              "    </tr>\n",
              "    <tr>\n",
              "      <th>1</th>\n",
              "      <td>52</td>\n",
              "      <td>2</td>\n",
              "      <td>2</td>\n",
              "      <td>0</td>\n",
              "    </tr>\n",
              "    <tr>\n",
              "      <th>2</th>\n",
              "      <td>54</td>\n",
              "      <td>3</td>\n",
              "      <td>3</td>\n",
              "      <td>0</td>\n",
              "    </tr>\n",
              "    <tr>\n",
              "      <th>3</th>\n",
              "      <td>56</td>\n",
              "      <td>6</td>\n",
              "      <td>6</td>\n",
              "      <td>0</td>\n",
              "    </tr>\n",
              "    <tr>\n",
              "      <th>4</th>\n",
              "      <td>57</td>\n",
              "      <td>8</td>\n",
              "      <td>8</td>\n",
              "      <td>0</td>\n",
              "    </tr>\n",
              "  </tbody>\n",
              "</table>\n",
              "</div>"
            ],
            "text/plain": [
              "   height  running count  running counts of female  running counts of male\n",
              "0      44              1                         1                       0\n",
              "1      52              2                         2                       0\n",
              "2      54              3                         3                       0\n",
              "3      56              6                         6                       0\n",
              "4      57              8                         8                       0"
            ]
          },
          "metadata": {
            "tags": []
          },
          "execution_count": 12
        }
      ]
    },
    {
      "cell_type": "code",
      "metadata": {
        "id": "w6bexKZLKNeW",
        "colab": {
          "base_uri": "https://localhost:8080/"
        },
        "outputId": "bcd2d0e8-9a7e-4f21-ab24-45d362a69a25"
      },
      "source": [
        "print(final_df3['running count'].values[29])"
      ],
      "execution_count": null,
      "outputs": [
        {
          "output_type": "stream",
          "text": [
            "1988\n"
          ],
          "name": "stdout"
        }
      ]
    },
    {
      "cell_type": "code",
      "metadata": {
        "id": "Bqjt_YsqKYSa",
        "colab": {
          "base_uri": "https://localhost:8080/"
        },
        "outputId": "19b22f3c-5afc-4051-e1ba-065c52e01b0b"
      },
      "source": [
        "sum_count = h_counts['count'].sum()\n",
        "fsum_count = df3_cleaned['f_counts'].sum()\n",
        "msum_count = df3_cleaned['m_counts'].sum()\n",
        "\n",
        "\n",
        "#heights below = final_df3.running count.values[row]\n",
        "#hieghts above = sum_count - final_df3.running count.values[row]\n",
        "#males in term 1 = final_df3.running counts of male.values[row]\n",
        "#females in term 1 = final_df3.running counts of female.values[row]\n",
        "#males in term 2 = msum_count - final_df3.running counts of male.values[row]\n",
        "#females in term 2 = fsum_count - final_df3.running counts of female.values[row]\n",
        "\n",
        "\n",
        "split_point = 54\n",
        "min_value = 54\n",
        "\n",
        "for row in final_df3.index.values:\n",
        "  \n",
        "  \n",
        "  gini_index = (\n",
        "        (final_df3['running count'].values[row]/sum_count)*(\n",
        "          1 - \n",
        "          (final_df3['running counts of female'].values[row]/final_df3['running count'].values[row])**2 \n",
        "          - (final_df3['running counts of male'].values[row]/final_df3['running count'].values[row])**2 )\n",
        "  \n",
        "      +\n",
        "       ( ((sum_count - final_df3['running count'].values[row])/sum_count)*(\n",
        "          1 - \n",
        "          ((fsum_count - final_df3['running counts of female'].values[row])/(sum_count - final_df3['running count'].values[row]))**2 \n",
        "  - ((msum_count - final_df3['running counts of male'].values[row])/(sum_count - final_df3['running count'].values[row]))**2 )\n",
        "  \n",
        " )\n",
        "   \n",
        "  )\n",
        "  \n",
        "  if gini_index < min_value:   \n",
        "    min_value = gini_index\n",
        "    split_point = (final_df3.height.values[row] + final_df3.height.values[row +1])/2 \n",
        "    \n",
        "print('The split point was found to be'+ ' ' + str(split_point))"
      ],
      "execution_count": null,
      "outputs": [
        {
          "output_type": "stream",
          "text": [
            "The split point was found to be 68.5\n"
          ],
          "name": "stdout"
        },
        {
          "output_type": "stream",
          "text": [
            "/usr/local/lib/python3.6/dist-packages/ipykernel_launcher.py:30: RuntimeWarning: invalid value encountered in long_scalars\n"
          ],
          "name": "stderr"
        }
      ]
    },
    {
      "cell_type": "code",
      "metadata": {
        "id": "noWaApiwKf6o",
        "colab": {
          "base_uri": "https://localhost:8080/"
        },
        "outputId": "d7528427-a04d-4d43-bde4-e7e3e9fc15a0"
      },
      "source": [
        "print('The Gini Index of this split is ' + str(min_value))\n",
        "print('This partitioning reduces the Gini Index of the overall dataset by ' + str(gini_index_gender - min_value))"
      ],
      "execution_count": null,
      "outputs": [
        {
          "output_type": "stream",
          "text": [
            "The Gini Index of this split is 0.26552881207029194\n",
            "This partitioning reduces the Gini Index of the overall dataset by 0.23090046783448887\n"
          ],
          "name": "stdout"
        }
      ]
    },
    {
      "cell_type": "markdown",
      "metadata": {
        "id": "FoHn05sPLF2o"
      },
      "source": [
        "\n",
        "Best Split of a Categorical Variable\n",
        "\n",
        "First question was to find the possible splits in the eyecolor feature.\n"
      ]
    },
    {
      "cell_type": "code",
      "metadata": {
        "id": "GCwVkmARLOrc",
        "colab": {
          "base_uri": "https://localhost:8080/"
        },
        "outputId": "4e4e9739-5ea3-4b76-e2e2-c67e9e3f7443"
      },
      "source": [
        "import itertools\n",
        "\n",
        "#a = Blue, b = Brown, c = Green, d = Hazel, e = Other\n",
        "\n",
        "def power_set(s=\"abcde\"):   \n",
        "  # Your code\n",
        "  return list(itertools.chain.from_iterable(\n",
        "      itertools.combinations(s, r) for r in range(1, len(s)+1)))\n",
        "\n",
        "int(len(power_set(['Blue','Brown','Green', 'Hazel', 'Other']))/2)"
      ],
      "execution_count": null,
      "outputs": [
        {
          "output_type": "execute_result",
          "data": {
            "text/plain": [
              "15"
            ]
          },
          "metadata": {
            "tags": []
          },
          "execution_count": 16
        }
      ]
    },
    {
      "cell_type": "code",
      "metadata": {
        "id": "JMzQ6WOzLQH1",
        "colab": {
          "base_uri": "https://localhost:8080/"
        },
        "outputId": "9b514519-9590-415c-a04e-c9597b76015c"
      },
      "source": [
        "x = power_set(['blue','brown','green', 'hazel', 'other'])[15:]\n",
        "np.asarray(x)"
      ],
      "execution_count": null,
      "outputs": [
        {
          "output_type": "execute_result",
          "data": {
            "text/plain": [
              "array([('blue', 'brown', 'green'), ('blue', 'brown', 'hazel'),\n",
              "       ('blue', 'brown', 'other'), ('blue', 'green', 'hazel'),\n",
              "       ('blue', 'green', 'other'), ('blue', 'hazel', 'other'),\n",
              "       ('brown', 'green', 'hazel'), ('brown', 'green', 'other'),\n",
              "       ('brown', 'hazel', 'other'), ('green', 'hazel', 'other'),\n",
              "       ('blue', 'brown', 'green', 'hazel'),\n",
              "       ('blue', 'brown', 'green', 'other'),\n",
              "       ('blue', 'brown', 'hazel', 'other'),\n",
              "       ('blue', 'green', 'hazel', 'other'),\n",
              "       ('brown', 'green', 'hazel', 'other'),\n",
              "       ('blue', 'brown', 'green', 'hazel', 'other')], dtype=object)"
            ]
          },
          "metadata": {
            "tags": []
          },
          "execution_count": 17
        }
      ]
    },
    {
      "cell_type": "code",
      "metadata": {
        "id": "kv_4IHJGLR0j",
        "colab": {
          "base_uri": "https://localhost:8080/"
        },
        "outputId": "32c5dc16-2b5c-44e3-b9b8-8c9106bd9278"
      },
      "source": [
        "print('There are ' + str(int(len(x))-1) + ' possible splits')"
      ],
      "execution_count": null,
      "outputs": [
        {
          "output_type": "stream",
          "text": [
            "There are 15 possible splits\n"
          ],
          "name": "stdout"
        }
      ]
    },
    {
      "cell_type": "markdown",
      "metadata": {
        "id": "jMn4n1_ZLhME"
      },
      "source": [
        "Now I find the split of eyecolor that best splits the female and male rows using the Gini Index:"
      ]
    },
    {
      "cell_type": "code",
      "metadata": {
        "id": "3cLJqHtNLZPb",
        "colab": {
          "base_uri": "https://localhost:8080/"
        },
        "outputId": "6a93d749-5c9f-4ef7-b219-ed17c9baa958"
      },
      "source": [
        "total = df.shape[0] #total number of rows\n",
        "\n",
        "df9 = df.copy()\n",
        "splits = np.asarray(power_set(['blue','brown','green', 'hazel', 'other']))\n",
        "\n",
        "split_color = ''\n",
        "min_value = 1000\n",
        "  \n",
        "\n",
        "\n",
        "for split in range(len(splits) - 1):\n",
        "  split1_total = df9[(df9.eyecolor.isin(splits[split]))].shape[0]\n",
        "  split2_total = df9[(~df9.eyecolor.isin(splits[split]))].shape[0]\n",
        "  \n",
        "  split1_mtotal = df9[(df9.gender == 'male') & (df9.eyecolor.isin(splits[split]))].shape[0]\n",
        "  split2_mtotal = df9[(df9.gender == 'male') & (~df9.eyecolor.isin(splits[split]))].shape[0]\n",
        "  \n",
        "  split1_ftotal = df9[(df9.gender == 'female') & (df9.eyecolor.isin(splits[split]))].shape[0]\n",
        "  split2_ftotal = df9[(df9.gender == 'female') & (~df9.eyecolor.isin(splits[split]))].shape[0]\n",
        "  \n",
        "  \n",
        "  gini_index = (\n",
        "      \n",
        "  (split1_total/total)*(1 - (split1_mtotal/split1_total)**2 - (split1_ftotal/split1_total)**2)+\n",
        "  (split2_total/total)*(1 - (split2_mtotal/split2_total)**2 - (split2_ftotal/split2_total)**2)  \n",
        "    \n",
        "  )\n",
        "  \n",
        "  if gini_index < min_value:   \n",
        "    min_value = gini_index\n",
        "    split_color = splits[split] \n",
        "    m1 = split1_mtotal\n",
        "    m2 = split2_mtotal\n",
        "    f1 = split1_ftotal\n",
        "    f2 = split2_ftotal\n",
        "\n",
        "\n",
        "print('The best split color that best split the female and male rows is ' + str(split_color))\n",
        "print('The Gini Index of this best split is ' + str(min_value))\n",
        "print('This partitioning reduces the Gini Index of the overall data set by ' + str(gini_index_gender - min_value))"
      ],
      "execution_count": null,
      "outputs": [
        {
          "output_type": "stream",
          "text": [
            "The best split color that best split the female and male rows is ('green',)\n",
            "The Gini Index of this best split is 0.4930915729509777\n",
            "This partitioning reduces the Gini Index of the overall data set by 0.003337706953803088\n"
          ],
          "name": "stdout"
        }
      ]
    },
    {
      "cell_type": "markdown",
      "metadata": {
        "id": "8-M5avWfMd0K"
      },
      "source": [
        "# Decision Tree Training\n",
        "\n",
        "Here, a decision tree classifier with depth three (including root node and leaf nodes) is created and then trained using the features of the original dataframe. \n",
        "\n",
        "The class labels and features are turned into numeric arrays using DictVectorizer. Class label is removed, this prevents training accuracy from erronously being 100 percent. "
      ]
    },
    {
      "cell_type": "code",
      "metadata": {
        "id": "zN_KNH5gNhRV",
        "colab": {
          "base_uri": "https://localhost:8080/",
          "height": 224
        },
        "outputId": "bc22be87-b5c0-431e-9654-5c548c8be3e1"
      },
      "source": [
        "df13 = df.loc[:,'age':'watchtv'].copy() #gender removed\n",
        "df13.head()"
      ],
      "execution_count": null,
      "outputs": [
        {
          "output_type": "execute_result",
          "data": {
            "text/html": [
              "<div>\n",
              "<style scoped>\n",
              "    .dataframe tbody tr th:only-of-type {\n",
              "        vertical-align: middle;\n",
              "    }\n",
              "\n",
              "    .dataframe tbody tr th {\n",
              "        vertical-align: top;\n",
              "    }\n",
              "\n",
              "    .dataframe thead th {\n",
              "        text-align: right;\n",
              "    }\n",
              "</style>\n",
              "<table border=\"1\" class=\"dataframe\">\n",
              "  <thead>\n",
              "    <tr style=\"text-align: right;\">\n",
              "      <th></th>\n",
              "      <th>age</th>\n",
              "      <th>year</th>\n",
              "      <th>eyecolor</th>\n",
              "      <th>height</th>\n",
              "      <th>miles</th>\n",
              "      <th>brothers</th>\n",
              "      <th>sisters</th>\n",
              "      <th>computertime</th>\n",
              "      <th>exercise</th>\n",
              "      <th>exercisehours</th>\n",
              "      <th>musiccds</th>\n",
              "      <th>playgames</th>\n",
              "      <th>watchtv</th>\n",
              "    </tr>\n",
              "  </thead>\n",
              "  <tbody>\n",
              "    <tr>\n",
              "      <th>0</th>\n",
              "      <td>18</td>\n",
              "      <td>first</td>\n",
              "      <td>hazel</td>\n",
              "      <td>68.0</td>\n",
              "      <td>195.0</td>\n",
              "      <td>0</td>\n",
              "      <td>1</td>\n",
              "      <td>20.0</td>\n",
              "      <td>Yes</td>\n",
              "      <td>3.0</td>\n",
              "      <td>75.0</td>\n",
              "      <td>6.0</td>\n",
              "      <td>18.0</td>\n",
              "    </tr>\n",
              "    <tr>\n",
              "      <th>1</th>\n",
              "      <td>20</td>\n",
              "      <td>third</td>\n",
              "      <td>brown</td>\n",
              "      <td>70.0</td>\n",
              "      <td>120.0</td>\n",
              "      <td>3</td>\n",
              "      <td>0</td>\n",
              "      <td>24.0</td>\n",
              "      <td>No</td>\n",
              "      <td>0.0</td>\n",
              "      <td>50.0</td>\n",
              "      <td>0.0</td>\n",
              "      <td>3.0</td>\n",
              "    </tr>\n",
              "    <tr>\n",
              "      <th>2</th>\n",
              "      <td>18</td>\n",
              "      <td>first</td>\n",
              "      <td>green</td>\n",
              "      <td>67.0</td>\n",
              "      <td>200.0</td>\n",
              "      <td>0</td>\n",
              "      <td>1</td>\n",
              "      <td>35.0</td>\n",
              "      <td>Yes</td>\n",
              "      <td>3.0</td>\n",
              "      <td>53.0</td>\n",
              "      <td>8.0</td>\n",
              "      <td>1.0</td>\n",
              "    </tr>\n",
              "    <tr>\n",
              "      <th>3</th>\n",
              "      <td>23</td>\n",
              "      <td>fourth</td>\n",
              "      <td>hazel</td>\n",
              "      <td>74.0</td>\n",
              "      <td>140.0</td>\n",
              "      <td>1</td>\n",
              "      <td>1</td>\n",
              "      <td>5.0</td>\n",
              "      <td>Yes</td>\n",
              "      <td>25.0</td>\n",
              "      <td>50.0</td>\n",
              "      <td>0.0</td>\n",
              "      <td>7.0</td>\n",
              "    </tr>\n",
              "    <tr>\n",
              "      <th>4</th>\n",
              "      <td>19</td>\n",
              "      <td>second</td>\n",
              "      <td>blue</td>\n",
              "      <td>62.0</td>\n",
              "      <td>60.0</td>\n",
              "      <td>0</td>\n",
              "      <td>1</td>\n",
              "      <td>5.0</td>\n",
              "      <td>Yes</td>\n",
              "      <td>4.0</td>\n",
              "      <td>30.0</td>\n",
              "      <td>2.0</td>\n",
              "      <td>5.0</td>\n",
              "    </tr>\n",
              "  </tbody>\n",
              "</table>\n",
              "</div>"
            ],
            "text/plain": [
              "   age    year eyecolor  height  ...  exercisehours  musiccds  playgames  watchtv\n",
              "0   18   first    hazel    68.0  ...            3.0      75.0        6.0     18.0\n",
              "1   20   third    brown    70.0  ...            0.0      50.0        0.0      3.0\n",
              "2   18   first    green    67.0  ...            3.0      53.0        8.0      1.0\n",
              "3   23  fourth    hazel    74.0  ...           25.0      50.0        0.0      7.0\n",
              "4   19  second     blue    62.0  ...            4.0      30.0        2.0      5.0\n",
              "\n",
              "[5 rows x 13 columns]"
            ]
          },
          "metadata": {
            "tags": []
          },
          "execution_count": 20
        }
      ]
    },
    {
      "cell_type": "code",
      "metadata": {
        "id": "L6u0GNzVLuuE"
      },
      "source": [
        "df_classlabels = df['gender'].copy()"
      ],
      "execution_count": null,
      "outputs": []
    },
    {
      "cell_type": "code",
      "metadata": {
        "id": "qoNewgCINkxt",
        "colab": {
          "base_uri": "https://localhost:8080/"
        },
        "outputId": "1baab709-f0ec-4d28-b154-36db478a0774"
      },
      "source": [
        "import sklearn\n",
        "from sklearn.tree import DecisionTreeClassifier\n",
        "from sklearn.feature_extraction import DictVectorizer #to turn categorial variables into numeric arrays\n",
        "from sklearn import preprocessing #to transform the feature labels\n",
        "#u can turn a pandas dataframe of features into a \n",
        "#dictionary of the form needed by DictVectorizer by using df.to_dict('records'). \n",
        "vec = DictVectorizer()\n",
        "df13_D = df13.T.to_dict().values()\n",
        "#DictVectorizer\n",
        "df13_X = vec.fit_transform(df13_D).toarray()\n",
        "\n",
        "#Because the labels are also categorical, those need to be transformed as well. \n",
        "#There's a special LabelEncoder() object specifically for this task.\n",
        "le = preprocessing.LabelEncoder()\n",
        "le.fit(['male', 'female'])\n",
        "df_classlables_transformarray = le.transform(df_classlabels)\n",
        "\n",
        "df_classlables_transformarray"
      ],
      "execution_count": null,
      "outputs": [
        {
          "output_type": "execute_result",
          "data": {
            "text/plain": [
              "array([0, 1, 0, ..., 0, 1, 0])"
            ]
          },
          "metadata": {
            "tags": []
          },
          "execution_count": 22
        }
      ]
    },
    {
      "cell_type": "code",
      "metadata": {
        "id": "JCv_ivF2n-c9",
        "colab": {
          "base_uri": "https://localhost:8080/"
        },
        "outputId": "c9c165df-909d-458a-fb47-4b5719d833b8"
      },
      "source": [
        "df_classlables_transformarray[0].item"
      ],
      "execution_count": null,
      "outputs": [
        {
          "output_type": "execute_result",
          "data": {
            "text/plain": [
              "<function int64.item>"
            ]
          },
          "metadata": {
            "tags": []
          },
          "execution_count": 26
        }
      ]
    },
    {
      "cell_type": "code",
      "metadata": {
        "id": "B62SSeCbNnFb",
        "colab": {
          "base_uri": "https://localhost:8080/"
        },
        "outputId": "3c31c5a4-aa8b-4132-e98e-8e8b3d510fe0"
      },
      "source": [
        "from sklearn.metrics import accuracy_score\n",
        "\n",
        "clf = DecisionTreeClassifier(max_depth=3)\n",
        "clf = clf.fit(df13_X, df_classlables_transformarray)\n",
        "gender_predict = clf.predict(df13_X)\n",
        "\n",
        "print(accuracy_score(df_classlables_transformarray, gender_predict))"
      ],
      "execution_count": null,
      "outputs": [
        {
          "output_type": "stream",
          "text": [
            "0.8646881287726358\n"
          ],
          "name": "stdout"
        }
      ]
    },
    {
      "cell_type": "markdown",
      "metadata": {
        "id": "TJX-kol9Nqp7"
      },
      "source": [
        "Now, here is a vizualization of the decision tree using \n",
        "\n",
        "*   List item\n",
        "*   List item\n",
        "\n",
        "graphviz:"
      ]
    },
    {
      "cell_type": "code",
      "metadata": {
        "id": "3151sj9aNw9q",
        "colab": {
          "base_uri": "https://localhost:8080/",
          "height": 368
        },
        "outputId": "05e27726-f30b-4b7f-b659-f21ba9412e2c"
      },
      "source": [
        "from IPython.display import Image  \n",
        "import pydotplus \n",
        "import pydot\n",
        "from sklearn.externals.six import StringIO\n",
        "\n",
        "#\n",
        "# clf = your classifier\n",
        "\n",
        "dotfile = StringIO() \n",
        "tree.export_graphviz(clf, out_file=dotfile,\n",
        "#                     feature_names=df.columns,  \n",
        "#                          class_names=['Female', 'Male'],  \n",
        "                         filled=True, rounded=True,  \n",
        "                         special_characters=True)\n",
        "                    \n",
        "graph = pydotplus.graph_from_dot_data(dotfile.getvalue())\n",
        "Image(graph.create_png())"
      ],
      "execution_count": null,
      "outputs": [
        {
          "output_type": "stream",
          "text": [
            "/usr/local/lib/python3.6/dist-packages/sklearn/externals/six.py:31: FutureWarning: The module is deprecated in version 0.21 and will be removed in version 0.23 since we've dropped support for Python 2.7. Please rely on the official version of six (https://pypi.org/project/six/).\n",
            "  \"(https://pypi.org/project/six/).\", FutureWarning)\n"
          ],
          "name": "stderr"
        },
        {
          "output_type": "execute_result",
          "data": {
            "image/png": "[encoded data removed]",
            "text/plain": [
              "<IPython.core.display.Image object>"
            ]
          },
          "metadata": {
            "tags": []
          },
          "execution_count": 24
        }
      ]
    },
    {
      "cell_type": "markdown",
      "metadata": {
        "id": "hKavQyq-N797"
      },
      "source": [
        "From Top to bottom left to right. 15 Nodes\n",
        "\n",
        "Input df 910/1078 = 0.496, this node represents the original input dataframe. Females are True, Males are False.\n",
        "2/3. With the feature vectors, the descision tree bined what it thinks are males and females. But there is already mistakes it made as node 2 has a small number of males and node 3 vise versa.\n",
        "\n",
        "4/5/6/7: Here it makes another T/F split from Node 2. Again, it's still tyring to classify on a different T/F feature (which it generated itself) then splits into the final row. I think node 5 and 6 are splitting on gender again. While 4 and 7 are splitting on a different generated feature.\n",
        "\n",
        "8/9: These nodes have female majority and male minorities as final values.\n",
        "\n",
        "10/11/12/13: These nodes may have split onto male and female again, as all these nodes have either majority male or female from thier parent node in the final false and true nodes positions respectively.\n",
        "\n",
        "14/15: these are similar to 8/9 but instead have male majority and female minority as final values."
      ]
    },
    {
      "cell_type": "code",
      "metadata": {
        "id": "4_IoOTEOOAD0"
      },
      "source": [
        ""
      ],
      "execution_count": null,
      "outputs": []
    }
  ]
}